{
 "cells": [
  {
   "cell_type": "code",
   "execution_count": 134,
   "metadata": {},
   "outputs": [],
   "source": [
    "import pandas as pd\n",
    "import numpy as np\n",
    "import matplotlib.pyplot as plt\n",
    "from sklearn.linear_model import LinearRegression\n",
    "from sklearn.metrics import mean_squared_error, r2_score\n",
    "from sklearn.model_selection import train_test_split"
   ]
  },
  {
   "cell_type": "code",
   "execution_count": 135,
   "metadata": {},
   "outputs": [
    {
     "data": {
      "text/html": [
       "<div>\n",
       "<style scoped>\n",
       "    .dataframe tbody tr th:only-of-type {\n",
       "        vertical-align: middle;\n",
       "    }\n",
       "\n",
       "    .dataframe tbody tr th {\n",
       "        vertical-align: top;\n",
       "    }\n",
       "\n",
       "    .dataframe thead th {\n",
       "        text-align: right;\n",
       "    }\n",
       "</style>\n",
       "<table border=\"1\" class=\"dataframe\">\n",
       "  <thead>\n",
       "    <tr style=\"text-align: right;\">\n",
       "      <th></th>\n",
       "      <th>id</th>\n",
       "      <th>date</th>\n",
       "      <th>price</th>\n",
       "      <th>bedrooms</th>\n",
       "      <th>bathrooms</th>\n",
       "      <th>sqft_living</th>\n",
       "      <th>sqft_lot</th>\n",
       "      <th>floors</th>\n",
       "      <th>waterfront</th>\n",
       "      <th>view</th>\n",
       "      <th>...</th>\n",
       "      <th>grade</th>\n",
       "      <th>sqft_above</th>\n",
       "      <th>sqft_basement</th>\n",
       "      <th>yr_built</th>\n",
       "      <th>yr_renovated</th>\n",
       "      <th>zipcode</th>\n",
       "      <th>lat</th>\n",
       "      <th>long</th>\n",
       "      <th>sqft_living15</th>\n",
       "      <th>sqft_lot15</th>\n",
       "    </tr>\n",
       "  </thead>\n",
       "  <tbody>\n",
       "    <tr>\n",
       "      <th>0</th>\n",
       "      <td>7129300520</td>\n",
       "      <td>20141013T000000</td>\n",
       "      <td>221900</td>\n",
       "      <td>3</td>\n",
       "      <td>1.00</td>\n",
       "      <td>1180</td>\n",
       "      <td>5650</td>\n",
       "      <td>1.0</td>\n",
       "      <td>0</td>\n",
       "      <td>0</td>\n",
       "      <td>...</td>\n",
       "      <td>7</td>\n",
       "      <td>1180</td>\n",
       "      <td>0</td>\n",
       "      <td>1955</td>\n",
       "      <td>0</td>\n",
       "      <td>98178</td>\n",
       "      <td>47.5112</td>\n",
       "      <td>-122.257</td>\n",
       "      <td>1340</td>\n",
       "      <td>5650</td>\n",
       "    </tr>\n",
       "    <tr>\n",
       "      <th>1</th>\n",
       "      <td>6414100192</td>\n",
       "      <td>20141209T000000</td>\n",
       "      <td>538000</td>\n",
       "      <td>3</td>\n",
       "      <td>2.25</td>\n",
       "      <td>2570</td>\n",
       "      <td>7242</td>\n",
       "      <td>2.0</td>\n",
       "      <td>0</td>\n",
       "      <td>0</td>\n",
       "      <td>...</td>\n",
       "      <td>7</td>\n",
       "      <td>2170</td>\n",
       "      <td>400</td>\n",
       "      <td>1951</td>\n",
       "      <td>1991</td>\n",
       "      <td>98125</td>\n",
       "      <td>47.7210</td>\n",
       "      <td>-122.319</td>\n",
       "      <td>1690</td>\n",
       "      <td>7639</td>\n",
       "    </tr>\n",
       "    <tr>\n",
       "      <th>2</th>\n",
       "      <td>5631500400</td>\n",
       "      <td>20150225T000000</td>\n",
       "      <td>180000</td>\n",
       "      <td>2</td>\n",
       "      <td>1.00</td>\n",
       "      <td>770</td>\n",
       "      <td>10000</td>\n",
       "      <td>1.0</td>\n",
       "      <td>0</td>\n",
       "      <td>0</td>\n",
       "      <td>...</td>\n",
       "      <td>6</td>\n",
       "      <td>770</td>\n",
       "      <td>0</td>\n",
       "      <td>1933</td>\n",
       "      <td>0</td>\n",
       "      <td>98028</td>\n",
       "      <td>47.7379</td>\n",
       "      <td>-122.233</td>\n",
       "      <td>2720</td>\n",
       "      <td>8062</td>\n",
       "    </tr>\n",
       "    <tr>\n",
       "      <th>3</th>\n",
       "      <td>2487200875</td>\n",
       "      <td>20141209T000000</td>\n",
       "      <td>604000</td>\n",
       "      <td>4</td>\n",
       "      <td>3.00</td>\n",
       "      <td>1960</td>\n",
       "      <td>5000</td>\n",
       "      <td>1.0</td>\n",
       "      <td>0</td>\n",
       "      <td>0</td>\n",
       "      <td>...</td>\n",
       "      <td>7</td>\n",
       "      <td>1050</td>\n",
       "      <td>910</td>\n",
       "      <td>1965</td>\n",
       "      <td>0</td>\n",
       "      <td>98136</td>\n",
       "      <td>47.5208</td>\n",
       "      <td>-122.393</td>\n",
       "      <td>1360</td>\n",
       "      <td>5000</td>\n",
       "    </tr>\n",
       "    <tr>\n",
       "      <th>4</th>\n",
       "      <td>1954400510</td>\n",
       "      <td>20150218T000000</td>\n",
       "      <td>510000</td>\n",
       "      <td>3</td>\n",
       "      <td>2.00</td>\n",
       "      <td>1680</td>\n",
       "      <td>8080</td>\n",
       "      <td>1.0</td>\n",
       "      <td>0</td>\n",
       "      <td>0</td>\n",
       "      <td>...</td>\n",
       "      <td>8</td>\n",
       "      <td>1680</td>\n",
       "      <td>0</td>\n",
       "      <td>1987</td>\n",
       "      <td>0</td>\n",
       "      <td>98074</td>\n",
       "      <td>47.6168</td>\n",
       "      <td>-122.045</td>\n",
       "      <td>1800</td>\n",
       "      <td>7503</td>\n",
       "    </tr>\n",
       "  </tbody>\n",
       "</table>\n",
       "<p>5 rows × 21 columns</p>\n",
       "</div>"
      ],
      "text/plain": [
       "           id             date   price  bedrooms  bathrooms  sqft_living  \\\n",
       "0  7129300520  20141013T000000  221900         3       1.00         1180   \n",
       "1  6414100192  20141209T000000  538000         3       2.25         2570   \n",
       "2  5631500400  20150225T000000  180000         2       1.00          770   \n",
       "3  2487200875  20141209T000000  604000         4       3.00         1960   \n",
       "4  1954400510  20150218T000000  510000         3       2.00         1680   \n",
       "\n",
       "   sqft_lot  floors  waterfront  view     ...      grade  sqft_above  \\\n",
       "0      5650     1.0           0     0     ...          7        1180   \n",
       "1      7242     2.0           0     0     ...          7        2170   \n",
       "2     10000     1.0           0     0     ...          6         770   \n",
       "3      5000     1.0           0     0     ...          7        1050   \n",
       "4      8080     1.0           0     0     ...          8        1680   \n",
       "\n",
       "   sqft_basement  yr_built  yr_renovated  zipcode      lat     long  \\\n",
       "0              0      1955             0    98178  47.5112 -122.257   \n",
       "1            400      1951          1991    98125  47.7210 -122.319   \n",
       "2              0      1933             0    98028  47.7379 -122.233   \n",
       "3            910      1965             0    98136  47.5208 -122.393   \n",
       "4              0      1987             0    98074  47.6168 -122.045   \n",
       "\n",
       "   sqft_living15  sqft_lot15  \n",
       "0           1340        5650  \n",
       "1           1690        7639  \n",
       "2           2720        8062  \n",
       "3           1360        5000  \n",
       "4           1800        7503  \n",
       "\n",
       "[5 rows x 21 columns]"
      ]
     },
     "execution_count": 135,
     "metadata": {},
     "output_type": "execute_result"
    }
   ],
   "source": [
    "# Load housing data\n",
    "# Dataset is from house sales in King County, the region where the city of Seattle, WA is located.\n",
    "sales = pd.read_csv('home_data.csv')\n",
    "sales.head()"
   ]
  },
  {
   "cell_type": "code",
   "execution_count": 136,
   "metadata": {},
   "outputs": [
    {
     "data": {
      "text/plain": [
       "<matplotlib.collections.PathCollection at 0xed69dd8>"
      ]
     },
     "execution_count": 136,
     "metadata": {},
     "output_type": "execute_result"
    },
    {
     "data": {
      "image/png": "[encoded data removed]",
      "text/plain": [
       "<Figure size 432x288 with 1 Axes>"
      ]
     },
     "metadata": {},
     "output_type": "display_data"
    }
   ],
   "source": [
    "# plot square living versus price\n",
    "plt.scatter(sales['sqft_living'], sales['price'], alpha=0.5)"
   ]
  },
  {
   "cell_type": "code",
   "execution_count": 137,
   "metadata": {},
   "outputs": [],
   "source": [
    "# prepare data\n",
    "features = ['sqft_living']\n",
    "target = ['price']\n",
    "X = sales[features]\n",
    "y = sales[target]\n",
    "X_train, X_test, y_train, y_test = train_test_split(X, y, test_size=0.2, random_state=0)"
   ]
  },
  {
   "cell_type": "code",
   "execution_count": 138,
   "metadata": {},
   "outputs": [],
   "source": [
    "# prepare linear regression model\n",
    "linreg = LinearRegression().fit(X_train, y_train['price'])"
   ]
  },
  {
   "cell_type": "code",
   "execution_count": 139,
   "metadata": {},
   "outputs": [
    {
     "name": "stdout",
     "output_type": "stream",
     "text": [
      "linear model coeff (w): [ 283.96855737]\n",
      "linear model intercept (b): -48257.063\n",
      "R-squared score (training): 0.496\n",
      "R-squared score (test): 0.479\n"
     ]
    }
   ],
   "source": [
    "# evaluate model\n",
    "print('linear model coeff (w): {}'\n",
    "     .format(linreg.coef_))\n",
    "print('linear model intercept (b): {:.3f}'\n",
    "     .format(linreg.intercept_))\n",
    "print('R-squared score (training): {:.3f}'\n",
    "      .format(linreg.score(X_train, y_train)))\n",
    "print('R-squared score (test): {:.3f}'\n",
    "      .format(linreg.score(X_test, y_test)))"
   ]
  },
  {
   "cell_type": "code",
   "execution_count": 140,
   "metadata": {},
   "outputs": [
    {
     "data": {
      "text/plain": [
       "[<matplotlib.lines.Line2D at 0xeb32710>,\n",
       " <matplotlib.lines.Line2D at 0xeb32be0>]"
      ]
     },
     "execution_count": 140,
     "metadata": {},
     "output_type": "execute_result"
    },
    {
     "data": {
      "image/png": "[encoded data removed]",
      "text/plain": [
       "<Figure size 432x288 with 1 Axes>"
      ]
     },
     "metadata": {},
     "output_type": "display_data"
    }
   ],
   "source": [
    "# plot model\n",
    "plt.plot(test_X['sqft_living'],test_Y['price'],'.',\n",
    "        test_X['sqft_living'],linreg.predict(test_X),'-')"
   ]
  },
  {
   "cell_type": "code",
   "execution_count": 141,
   "metadata": {},
   "outputs": [
    {
     "data": {
      "text/plain": [
       "array([ 633267.47422744])"
      ]
     },
     "execution_count": 141,
     "metadata": {},
     "output_type": "execute_result"
    }
   ],
   "source": [
    "# predict single house\n",
    "house1 = sales[sales['id'] == 5309101200][features]\n",
    "linreg.predict(house1)"
   ]
  },
  {
   "cell_type": "code",
   "execution_count": 142,
   "metadata": {},
   "outputs": [],
   "source": [
    "# preparing more features for the second model\n",
    "my_features = ['bedrooms', 'bathrooms', 'sqft_living', 'sqft_lot', 'floors', 'zipcode']\n",
    "target = ['price']\n",
    "X1 = sales[my_features]\n",
    "y1 = sales[target]\n",
    "X1_train, X1_test, y1_train, y1_test = train_test_split(X1, y1, test_size=0.2, random_state=0)"
   ]
  },
  {
   "cell_type": "code",
   "execution_count": 143,
   "metadata": {},
   "outputs": [],
   "source": [
    "my_fetaures_linreg = LinearRegression().fit(X1_train, y1_train['price'])"
   ]
  },
  {
   "cell_type": "code",
   "execution_count": 144,
   "metadata": {},
   "outputs": [
    {
     "name": "stdout",
     "output_type": "stream",
     "text": [
      "linear model coeff (w): [ -5.66006330e+04   1.10870936e+04   3.20408369e+02  -2.89499140e-01\n",
      "  -2.41800491e+03   6.17971071e+02]\n",
      "linear model intercept (b): -60558259.018\n",
      "R-squared score (training): 0.518\n",
      "R-squared score (test): 0.499\n"
     ]
    }
   ],
   "source": [
    "# evaluate model\n",
    "print('linear model coeff (w): {}'\n",
    "     .format(my_fetaures_linreg.coef_))\n",
    "print('linear model intercept (b): {:.3f}'\n",
    "     .format(my_fetaures_linreg.intercept_))\n",
    "print('R-squared score (training): {:.3f}'\n",
    "      .format(my_fetaures_linreg.score(X1_train, y1_train)))\n",
    "print('R-squared score (test): {:.3f}'\n",
    "      .format(my_fetaures_linreg.score(X1_test, y1_test)))"
   ]
  },
  {
   "cell_type": "code",
   "execution_count": 102,
   "metadata": {},
   "outputs": [
    {
     "data": {
      "text/plain": [
       "array([ 15796988.23574052])"
      ]
     },
     "execution_count": 102,
     "metadata": {},
     "output_type": "execute_result"
    }
   ],
   "source": [
    "# predict gates' house price\n",
    "bill_gates = {'bedrooms':[8], \n",
    "              'bathrooms':[25], \n",
    "              'sqft_living':[50000], \n",
    "              'sqft_lot':[225000],\n",
    "              'floors':[4], \n",
    "              'zipcode':['98039'], \n",
    "              'condition':[10], \n",
    "              'grade':[10],\n",
    "              'waterfront':[1],\n",
    "              'view':[4],\n",
    "              'sqft_above':[37500],\n",
    "              'sqft_basement':[12500],\n",
    "              'yr_built':[1994],\n",
    "              'yr_renovated':[2010],\n",
    "              'lat':[47.627606],\n",
    "              'long':[-122.242054],\n",
    "              'sqft_living15':[5000],\n",
    "              'sqft_lot15':[40000]}\n",
    "\n",
    "my_fetaures_linreg.predict(pd.DataFrame(bill_gates)[my_features])"
   ]
  },
  {
   "cell_type": "code",
   "execution_count": 108,
   "metadata": {},
   "outputs": [
    {
     "data": {
      "text/html": [
       "<div>\n",
       "<style scoped>\n",
       "    .dataframe tbody tr th:only-of-type {\n",
       "        vertical-align: middle;\n",
       "    }\n",
       "\n",
       "    .dataframe tbody tr th {\n",
       "        vertical-align: top;\n",
       "    }\n",
       "\n",
       "    .dataframe thead th {\n",
       "        text-align: right;\n",
       "    }\n",
       "</style>\n",
       "<table border=\"1\" class=\"dataframe\">\n",
       "  <thead>\n",
       "    <tr style=\"text-align: right;\">\n",
       "      <th></th>\n",
       "      <th>zipcode</th>\n",
       "      <th>id</th>\n",
       "      <th>price</th>\n",
       "      <th>bedrooms</th>\n",
       "      <th>bathrooms</th>\n",
       "      <th>sqft_living</th>\n",
       "      <th>sqft_lot</th>\n",
       "      <th>floors</th>\n",
       "      <th>waterfront</th>\n",
       "      <th>view</th>\n",
       "      <th>condition</th>\n",
       "      <th>grade</th>\n",
       "      <th>sqft_above</th>\n",
       "      <th>sqft_basement</th>\n",
       "      <th>yr_built</th>\n",
       "      <th>yr_renovated</th>\n",
       "      <th>lat</th>\n",
       "      <th>long</th>\n",
       "      <th>sqft_living15</th>\n",
       "      <th>sqft_lot15</th>\n",
       "    </tr>\n",
       "  </thead>\n",
       "  <tbody>\n",
       "    <tr>\n",
       "      <th>24</th>\n",
       "      <td>98039</td>\n",
       "      <td>3.755708e+09</td>\n",
       "      <td>2.160607e+06</td>\n",
       "      <td>4.060000</td>\n",
       "      <td>3.200000</td>\n",
       "      <td>3800.900000</td>\n",
       "      <td>17403.560000</td>\n",
       "      <td>1.560000</td>\n",
       "      <td>0.020000</td>\n",
       "      <td>0.440000</td>\n",
       "      <td>3.480000</td>\n",
       "      <td>9.560000</td>\n",
       "      <td>3290.900000</td>\n",
       "      <td>510.000000</td>\n",
       "      <td>1972.520000</td>\n",
       "      <td>398.600000</td>\n",
       "      <td>47.625840</td>\n",
       "      <td>-122.233540</td>\n",
       "      <td>3132.200000</td>\n",
       "      <td>17291.100000</td>\n",
       "    </tr>\n",
       "    <tr>\n",
       "      <th>3</th>\n",
       "      <td>98004</td>\n",
       "      <td>4.394237e+09</td>\n",
       "      <td>1.355927e+06</td>\n",
       "      <td>3.854890</td>\n",
       "      <td>2.527603</td>\n",
       "      <td>2909.022082</td>\n",
       "      <td>13104.220820</td>\n",
       "      <td>1.432177</td>\n",
       "      <td>0.003155</td>\n",
       "      <td>0.305994</td>\n",
       "      <td>3.495268</td>\n",
       "      <td>8.687697</td>\n",
       "      <td>2419.842271</td>\n",
       "      <td>489.179811</td>\n",
       "      <td>1971.470032</td>\n",
       "      <td>208.145110</td>\n",
       "      <td>47.616183</td>\n",
       "      <td>-122.205189</td>\n",
       "      <td>2674.700315</td>\n",
       "      <td>12805.022082</td>\n",
       "    </tr>\n",
       "    <tr>\n",
       "      <th>25</th>\n",
       "      <td>98040</td>\n",
       "      <td>4.199323e+09</td>\n",
       "      <td>1.194230e+06</td>\n",
       "      <td>4.028369</td>\n",
       "      <td>2.716312</td>\n",
       "      <td>3106.833333</td>\n",
       "      <td>13704.464539</td>\n",
       "      <td>1.505319</td>\n",
       "      <td>0.042553</td>\n",
       "      <td>0.783688</td>\n",
       "      <td>3.787234</td>\n",
       "      <td>8.960993</td>\n",
       "      <td>2474.329787</td>\n",
       "      <td>632.503546</td>\n",
       "      <td>1971.471631</td>\n",
       "      <td>233.574468</td>\n",
       "      <td>47.559846</td>\n",
       "      <td>-122.225592</td>\n",
       "      <td>2898.744681</td>\n",
       "      <td>12801.283688</td>\n",
       "    </tr>\n",
       "    <tr>\n",
       "      <th>48</th>\n",
       "      <td>98112</td>\n",
       "      <td>4.826282e+09</td>\n",
       "      <td>1.095499e+06</td>\n",
       "      <td>3.509294</td>\n",
       "      <td>2.373606</td>\n",
       "      <td>2498.743494</td>\n",
       "      <td>4990.431227</td>\n",
       "      <td>1.806691</td>\n",
       "      <td>0.000000</td>\n",
       "      <td>0.148699</td>\n",
       "      <td>3.516729</td>\n",
       "      <td>8.442379</td>\n",
       "      <td>2005.695167</td>\n",
       "      <td>493.048327</td>\n",
       "      <td>1944.449814</td>\n",
       "      <td>223.144981</td>\n",
       "      <td>47.629619</td>\n",
       "      <td>-122.297866</td>\n",
       "      <td>2280.078067</td>\n",
       "      <td>4898.159851</td>\n",
       "    </tr>\n",
       "    <tr>\n",
       "      <th>41</th>\n",
       "      <td>98102</td>\n",
       "      <td>4.123034e+09</td>\n",
       "      <td>9.012582e+05</td>\n",
       "      <td>3.219048</td>\n",
       "      <td>2.261905</td>\n",
       "      <td>2159.742857</td>\n",
       "      <td>3616.190476</td>\n",
       "      <td>2.004762</td>\n",
       "      <td>0.000000</td>\n",
       "      <td>0.171429</td>\n",
       "      <td>3.371429</td>\n",
       "      <td>8.285714</td>\n",
       "      <td>1764.933333</td>\n",
       "      <td>394.809524</td>\n",
       "      <td>1952.523810</td>\n",
       "      <td>113.923810</td>\n",
       "      <td>47.634607</td>\n",
       "      <td>-122.322248</td>\n",
       "      <td>1958.333333</td>\n",
       "      <td>3310.133333</td>\n",
       "    </tr>\n",
       "  </tbody>\n",
       "</table>\n",
       "</div>"
      ],
      "text/plain": [
       "    zipcode            id         price  bedrooms  bathrooms  sqft_living  \\\n",
       "24    98039  3.755708e+09  2.160607e+06  4.060000   3.200000  3800.900000   \n",
       "3     98004  4.394237e+09  1.355927e+06  3.854890   2.527603  2909.022082   \n",
       "25    98040  4.199323e+09  1.194230e+06  4.028369   2.716312  3106.833333   \n",
       "48    98112  4.826282e+09  1.095499e+06  3.509294   2.373606  2498.743494   \n",
       "41    98102  4.123034e+09  9.012582e+05  3.219048   2.261905  2159.742857   \n",
       "\n",
       "        sqft_lot    floors  waterfront      view  condition     grade  \\\n",
       "24  17403.560000  1.560000    0.020000  0.440000   3.480000  9.560000   \n",
       "3   13104.220820  1.432177    0.003155  0.305994   3.495268  8.687697   \n",
       "25  13704.464539  1.505319    0.042553  0.783688   3.787234  8.960993   \n",
       "48   4990.431227  1.806691    0.000000  0.148699   3.516729  8.442379   \n",
       "41   3616.190476  2.004762    0.000000  0.171429   3.371429  8.285714   \n",
       "\n",
       "     sqft_above  sqft_basement     yr_built  yr_renovated        lat  \\\n",
       "24  3290.900000     510.000000  1972.520000    398.600000  47.625840   \n",
       "3   2419.842271     489.179811  1971.470032    208.145110  47.616183   \n",
       "25  2474.329787     632.503546  1971.471631    233.574468  47.559846   \n",
       "48  2005.695167     493.048327  1944.449814    223.144981  47.629619   \n",
       "41  1764.933333     394.809524  1952.523810    113.923810  47.634607   \n",
       "\n",
       "          long  sqft_living15    sqft_lot15  \n",
       "24 -122.233540    3132.200000  17291.100000  \n",
       "3  -122.205189    2674.700315  12805.022082  \n",
       "25 -122.225592    2898.744681  12801.283688  \n",
       "48 -122.297866    2280.078067   4898.159851  \n",
       "41 -122.322248    1958.333333   3310.133333  "
      ]
     },
     "execution_count": 108,
     "metadata": {},
     "output_type": "execute_result"
    }
   ],
   "source": [
    "# find the pricest zipcode\n",
    "sales.groupby(['zipcode'], as_index=False).mean().sort_values(by='price', ascending=False).head()\n",
    "houses_in_pricest_area = sales[sales['zipcode']==98039]\n",
    "houses_in_pricest_area['price'].mean()\n",
    "# zipcode = 98039 with average price 2.160607e+06"
   ]
  },
  {
   "cell_type": "code",
   "execution_count": 123,
   "metadata": {},
   "outputs": [
    {
     "name": "stdout",
     "output_type": "stream",
     "text": [
      "fraction: 0.4215518437977143\n"
     ]
    }
   ],
   "source": [
    "# first select the houses that have ‘sqft_living’ higher than 2000 sqft but no larger than 4000 sqft.\n",
    "filtered_houses_records = sales[(sales['sqft_living']>2000) & (sales['sqft_living'] <4000)]\n",
    "print('fraction:' ,len(filtered_houses_records.index)/len(sales.index))"
   ]
  },
  {
   "cell_type": "code",
   "execution_count": 145,
   "metadata": {},
   "outputs": [
    {
     "name": "stdout",
     "output_type": "stream",
     "text": [
      "Root mean squared error for simple model: 248879.06\n",
      "Root mean squared error for more feature model: 244004.77\n"
     ]
    }
   ],
   "source": [
    "# comparing two models with root mean squared error\n",
    "simple_predict = linreg.predict(X_test[features])\n",
    "my_features_predict =  my_fetaures_linreg.predict(X1_test[my_features])\n",
    "\n",
    "print(\"Root mean squared error for simple model: %.2f\"\n",
    "      % np.sqrt(mean_squared_error(y_test,simple_predict)))\n",
    "\n",
    "print(\"Root mean squared error for more feature model: %.2f\"\n",
    "      % np.sqrt(mean_squared_error(y1_test,my_features_predict)))"
   ]
  },
  {
   "cell_type": "code",
   "execution_count": null,
   "metadata": {},
   "outputs": [],
   "source": []
  }
 ],
 "metadata": {
  "kernelspec": {
   "display_name": "Python 3",
   "language": "python",
   "name": "python3"
  },
  "language_info": {
   "codemirror_mode": {
    "name": "ipython",
    "version": 3
   },
   "file_extension": ".py",
   "mimetype": "text/x-python",
   "name": "python",
   "nbconvert_exporter": "python",
   "pygments_lexer": "ipython3",
   "version": "3.6.3"
  }
 },
 "nbformat": 4,
 "nbformat_minor": 2
}
